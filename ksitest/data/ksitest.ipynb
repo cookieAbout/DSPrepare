{
 "cells": [
  {
   "cell_type": "code",
   "execution_count": 1,
   "id": "initial_id",
   "metadata": {
    "collapsed": true,
    "ExecuteTime": {
     "end_time": "2025-06-27T08:23:06.401930Z",
     "start_time": "2025-06-27T08:23:05.615224Z"
    }
   },
   "outputs": [],
   "source": [
    "import pandas as pd\n",
    "# читаем содержимое фалов\n",
    "bulls = pd.read_csv('bulls.csv').sort_values('ebv', ascending=False)  # быки-кандидаты на осеменение\n",
    "cows = pd.read_csv('cows.csv').sort_values('ebv', ascending=False)  # коровы, которых нужно осеменить\n",
    "date_map = {'id': 'str', 'mother_id': 'str', 'father_id': 'str'}\n",
    "pedigree = pd.read_csv('pedigree.csv', dtype=date_map)  # родословные животных"
   ]
  },
  {
   "cell_type": "code",
   "outputs": [],
   "source": [
    "def count_data(df: pd.DataFrame):\n",
    "    \"\"\" Проверяю чистоту данных, сколько записей с пропущенными значениями \"\"\"\n",
    "    ln = len(df)\n",
    "    null_val = sum(df.isna().sum(axis=1))\n",
    "    print('Количество строк: {ln}, количество строк с пропущенными значениями: {null_val}'.format(ln=ln, null_val=null_val))"
   ],
   "metadata": {
    "collapsed": false,
    "ExecuteTime": {
     "end_time": "2025-06-27T08:23:09.782714Z",
     "start_time": "2025-06-27T08:23:09.778056Z"
    }
   },
   "id": "c2b52f70102035c2",
   "execution_count": 2
  },
  {
   "cell_type": "code",
   "outputs": [
    {
     "name": "stdout",
     "output_type": "stream",
     "text": [
      "              id      mother_id      father_id\n",
      "0  GB00000090350  GB00000070596  FR00000051087\n",
      "1  DE00000090351  GB00000085021  GB00000051158\n",
      "2  US00000090352  US00000087323  GB00000091078\n",
      "3  FR00000090353            NaN            NaN\n",
      "4  GB00000090358  US00000056066  NL00000050889\n",
      "Количество строк: 94400, количество строк с пропущенными значениями: 11416\n"
     ]
    },
    {
     "data": {
      "text/plain": "                                        id\nmother_id     father_id                   \nGB00000070596 FR00000051087  GB00000090350\nGB00000085021 GB00000051158  DE00000090351\nUS00000087323 GB00000091078  US00000090352\nNaN           NaN            FR00000090353\nUS00000056066 NL00000050889  GB00000090358\n...                                    ...\nFR00000026340 GB00000000557  FR00000046829\nGB00000022627 US00000001653  FR00000048066\nNL00000005019 GB00000001788  RU00000048290\nDE00000028637 DE00000003760  US00000013052\nDE00000034312 NL00000001819  DE00000048341\n\n[94400 rows x 1 columns]",
      "text/html": "<div>\n<style scoped>\n    .dataframe tbody tr th:only-of-type {\n        vertical-align: middle;\n    }\n\n    .dataframe tbody tr th {\n        vertical-align: top;\n    }\n\n    .dataframe thead th {\n        text-align: right;\n    }\n</style>\n<table border=\"1\" class=\"dataframe\">\n  <thead>\n    <tr style=\"text-align: right;\">\n      <th></th>\n      <th></th>\n      <th>id</th>\n    </tr>\n    <tr>\n      <th>mother_id</th>\n      <th>father_id</th>\n      <th></th>\n    </tr>\n  </thead>\n  <tbody>\n    <tr>\n      <th>GB00000070596</th>\n      <th>FR00000051087</th>\n      <td>GB00000090350</td>\n    </tr>\n    <tr>\n      <th>GB00000085021</th>\n      <th>GB00000051158</th>\n      <td>DE00000090351</td>\n    </tr>\n    <tr>\n      <th>US00000087323</th>\n      <th>GB00000091078</th>\n      <td>US00000090352</td>\n    </tr>\n    <tr>\n      <th>NaN</th>\n      <th>NaN</th>\n      <td>FR00000090353</td>\n    </tr>\n    <tr>\n      <th>US00000056066</th>\n      <th>NL00000050889</th>\n      <td>GB00000090358</td>\n    </tr>\n    <tr>\n      <th>...</th>\n      <th>...</th>\n      <td>...</td>\n    </tr>\n    <tr>\n      <th>FR00000026340</th>\n      <th>GB00000000557</th>\n      <td>FR00000046829</td>\n    </tr>\n    <tr>\n      <th>GB00000022627</th>\n      <th>US00000001653</th>\n      <td>FR00000048066</td>\n    </tr>\n    <tr>\n      <th>NL00000005019</th>\n      <th>GB00000001788</th>\n      <td>RU00000048290</td>\n    </tr>\n    <tr>\n      <th>DE00000028637</th>\n      <th>DE00000003760</th>\n      <td>US00000013052</td>\n    </tr>\n    <tr>\n      <th>DE00000034312</th>\n      <th>NL00000001819</th>\n      <td>DE00000048341</td>\n    </tr>\n  </tbody>\n</table>\n<p>94400 rows × 1 columns</p>\n</div>"
     },
     "execution_count": 3,
     "metadata": {},
     "output_type": "execute_result"
    }
   ],
   "source": [
    "print(pedigree.head())\n",
    "count_data(pedigree)\n",
    "pedigree.set_index(['mother_id', 'father_id'])\n",
    "# пропусков ~12%, заполняем наиболее часто повторяющимися значениями\n",
    "# big_mother = pedigree['mother_id'].mode().iloc[0]\n",
    "# big_father = pedigree['father_id'].mode().iloc[0]\n",
    "# pedigree['mother_id'] =  pedigree.apply(\n",
    "#     lambda row: big_mother if pd.isna(row['mother_id']) and row['id'] != big_mother else row['mother_id'],\n",
    "#     axis=1\n",
    "# )\n",
    "# pedigree['father_id'] = pedigree.apply(\n",
    "#     lambda row: big_mother if pd.isna(row['father_id']) and row['id'] != big_mother else row['father_id'],\n",
    "#     axis=1\n",
    "# )\n",
    "# count_data(pedigree)\n",
    "\n",
    "# id: идентификатор животного\n",
    "# mother_id: идентификатор матери\n",
    "# father_id: идентификатор отца"
   ],
   "metadata": {
    "collapsed": false,
    "ExecuteTime": {
     "end_time": "2025-06-27T08:23:12.067719Z",
     "start_time": "2025-06-27T08:23:11.975671Z"
    }
   },
   "id": "d5431e97af11805d",
   "execution_count": 3
  },
  {
   "cell_type": "code",
   "outputs": [
    {
     "name": "stdout",
     "output_type": "stream",
     "text": [
      "               id  descendants_count     ebv\n",
      "18  US00000000795                299  1867.9\n",
      "17  US00000003507                 84  1782.9\n",
      "2   US00000003013                436  1528.6\n",
      "4   DE00000001742                496  1510.6\n",
      "19  US00000003459                 51  1506.6\n",
      "Количество строк: 39, количество строк с пропущенными значениями: 1\n"
     ]
    }
   ],
   "source": [
    "# смотрим, что вообще есть\n",
    "print(bulls.head())\n",
    "count_data(bulls)\n",
    "bulls_with_nan = bulls.loc[bulls.isna().any(axis=1), 'id'].values[0]\n",
    "parents = pedigree.loc[pedigree['id'] == bulls_with_nan, ['mother_id', 'father_id']]\n",
    "father_id = parents.father_id.values[0]\n",
    "mother_id = parents.mother_id.values[0]\n",
    "# bulls.loc[bulls.id == father_id]\n",
    "# cows[cows.id == mother_id]\n",
    "bulls = bulls.fillna(bulls.mean(numeric_only=True))\n",
    "# count_data(bulls)\n",
    "\n",
    "# id: идентификатор быка\n",
    "# ebv: селекционная ценность (Estimated Breeding Value)"
   ],
   "metadata": {
    "collapsed": false,
    "ExecuteTime": {
     "end_time": "2025-06-27T08:23:29.862422Z",
     "start_time": "2025-06-27T08:23:29.846684Z"
    }
   },
   "id": "9b3af8aeba0cebef",
   "execution_count": 4
  },
  {
   "cell_type": "code",
   "outputs": [
    {
     "name": "stdout",
     "output_type": "stream",
     "text": [
      "                 id     ebv\n",
      "4838  DE00000028635  2046.2\n",
      "6810  FR00000011732  1981.1\n",
      "9716  DE00000023145  1840.5\n",
      "8011  DE00000014083  1814.8\n",
      "5699  NL00000004886  1788.7\n",
      "Количество строк: 17177, количество строк с пропущенными значениями: 1849\n"
     ]
    }
   ],
   "source": [
    "print(cows.head())\n",
    "count_data(cows)\n",
    "# Процент пропущенных значений небольшой (~10%), можем посчитать среднюю селекционную ценность\n",
    "cows = cows.fillna(cows.mean(numeric_only=True))\n",
    "\n",
    "# print(cows.head())\n",
    "# id: идентификатор коровы\n",
    "# ebv: селекционная ценность"
   ],
   "metadata": {
    "collapsed": false,
    "ExecuteTime": {
     "end_time": "2025-06-27T08:23:35.900959Z",
     "start_time": "2025-06-27T08:23:35.887913Z"
    }
   },
   "id": "ebe4cab28f6cb129",
   "execution_count": 5
  },
  {
   "cell_type": "code",
   "outputs": [
    {
     "name": "stdout",
     "output_type": "stream",
     "text": [
      "Один бык может осеменить 1717 коров\n"
     ]
    }
   ],
   "source": [
    "import numpy as np\n",
    "max_cows_for_bull = int(np.floor(0.1 * len(cows)))\n",
    "print('Один бык может осеменить {max_cows} коров'.format(max_cows=max_cows_for_bull))"
   ],
   "metadata": {
    "collapsed": false,
    "ExecuteTime": {
     "end_time": "2025-06-27T08:23:42.956645Z",
     "start_time": "2025-06-27T08:23:42.952086Z"
    }
   },
   "id": "fcfb9f35f5f879f2",
   "execution_count": 6
  },
  {
   "cell_type": "code",
   "outputs": [
    {
     "name": "stdout",
     "output_type": "stream",
     "text": [
      "Коэффициент родства между E и D: 0.7500\n"
     ]
    }
   ],
   "source": [
    "# Пример структуры данных для животных\n",
    "# Каждое животное представлено словарём с ключами 'id', 'father', 'mother'\n",
    "# 'father' и 'mother' — id родителей или None, если неизвестны\n",
    "\n",
    "animals = {\n",
    "    'A': {'father': None, 'mother': None},\n",
    "    'B': {'father': None, 'mother': None},\n",
    "    'C': {'father': 'A', 'mother': 'B'},\n",
    "    'D': {'father': 'A', 'mother': 'B'},\n",
    "    'E': {'father': 'C', 'mother': 'D'},\n",
    "}\n",
    "\n",
    "def get_ancestors(animal_id, animals, generation=0, ancestors=None):\n",
    "    if ancestors is None:\n",
    "        ancestors = {}\n",
    "    if animal_id is None:\n",
    "        return ancestors\n",
    "    if animal_id not in ancestors or generation < ancestors[animal_id]:\n",
    "        ancestors[animal_id] = generation\n",
    "        father = animals[animal_id]['father']\n",
    "        mother = animals[animal_id]['mother']\n",
    "        get_ancestors(father, animals, generation + 1, ancestors)\n",
    "        get_ancestors(mother, animals, generation + 1, ancestors)\n",
    "    return ancestors\n",
    "\n",
    "def coefficient_of_relatedness(animal1, animal2, animals):\n",
    "    ancestors1 = get_ancestors(animal1, animals)\n",
    "    ancestors2 = get_ancestors(animal2, animals)\n",
    "\n",
    "    # Общие предки\n",
    "    common_ancestors = set(ancestors1.keys()) & set(ancestors2.keys())\n",
    "\n",
    "    r = 0.0\n",
    "    for ancestor in common_ancestors:\n",
    "        n1 = ancestors1[ancestor]\n",
    "        n2 = ancestors2[ancestor]\n",
    "        # Формула: 2^-(n1 + n2)\n",
    "        r += 2 ** (-(n1 + n2))\n",
    "    return r\n",
    "\n",
    "# Пример использования\n",
    "animal1 = 'E'\n",
    "animal2 = 'D'\n",
    "r = coefficient_of_relatedness(animal1, animal2, animals)\n",
    "print(f\"Коэффициент родства между {animal1} и {animal2}: {r:.4f}\")"
   ],
   "metadata": {
    "collapsed": false,
    "ExecuteTime": {
     "end_time": "2025-06-27T07:28:01.549610Z",
     "start_time": "2025-06-27T07:28:01.530864Z"
    }
   },
   "id": "35031ca4dee3872",
   "execution_count": 6
  },
  {
   "cell_type": "code",
   "outputs": [
    {
     "name": "stdout",
     "output_type": "stream",
     "text": [
      "RU00000000432\n",
      "NL00000001279\n",
      "NL00000001176\n",
      "US00000000916\n",
      "DE00000000510\n",
      "DE00000000020\n",
      "US00000000079\n",
      "US00000000653\n",
      "DE00000000414\n",
      "FR00000000371\n",
      "FR00000000879\n",
      "RU00000001144\n",
      "GB00000001305\n",
      "US00000000988\n",
      "NL00000003601\n",
      "NL00000000439\n",
      "FR00000001299\n",
      "US00000001231\n",
      "NL00000000358\n",
      "GB00000000208\n",
      "RU00000000202\n",
      "FR00000000534\n",
      "US00000000549\n",
      "RU00000001030\n",
      "GB00000044158\n",
      "US00000007635\n",
      "RU00000000920\n",
      "US00000000197\n",
      "DE00000000983\n",
      "RU00000001065\n",
      "DE00000002175\n",
      "DE00000001137\n",
      "DE00000000770\n",
      "FR00000000007\n",
      "FR00000000009\n",
      "DE00000000402\n",
      "NL00000001558\n",
      "NL00000000439\n",
      "FR00000000814\n",
      "DE00000000703\n",
      "FR00000002228\n",
      "RU00000000936\n",
      "RU00000000768\n",
      "US00000000158\n",
      "US00000000919\n",
      "US00000001231\n",
      "US00000000788\n",
      "GB00000000299\n",
      "GB00000000853\n",
      "DE00000001142\n",
      "GB00000000053\n",
      "GB00000000742\n",
      "NL00000000918\n",
      "FR00000001165\n",
      "US00000000929\n",
      "NL00000000567\n",
      "DE00000001862\n",
      "FR00000002045\n",
      "RU00000002513\n",
      "GB00000001443\n",
      "RU00000001485\n",
      "NL00000001444\n",
      "US00000000158\n",
      "DE00000002620\n",
      "US00000000382\n",
      "NL00000000446\n",
      "RU00000000092\n",
      "NL00000000666\n",
      "GB00000000890\n",
      "NL00000001160\n",
      "GB00000000208\n",
      "GB00000000145\n",
      "FR00000001165\n",
      "RU00000000138\n",
      "GB00000000782\n",
      "NL00000000702\n",
      "FR00000000081\n",
      "US00000000705\n",
      "US00000000988\n",
      "GB00000000518\n",
      "US00000001275\n",
      "NL00000001148\n",
      "FR00000000780\n",
      "GB00000000320\n",
      "NL00000000440\n",
      "NL00000000378\n",
      "NL00000000588\n",
      "FR00000002182\n",
      "GB00000000093\n",
      "GB00000000299\n",
      "NL00000001092\n",
      "RU00000001065\n",
      "FR00000002038\n",
      "RU00000001062\n",
      "US00000000902\n",
      "FR00000001704\n",
      "DE00000000151\n",
      "DE00000001142\n",
      "US00000002429\n",
      "US00000000382\n",
      "RU00000001065\n",
      "FR00000001224\n",
      "FR00000000371\n",
      "RU00000002504\n",
      "NL00000000985\n",
      "GB00000002390\n",
      "GB00000000976\n",
      "FR00000000221\n",
      "GB00000001164\n",
      "NL00000000251\n",
      "GB00000001022\n",
      "NL00000000632\n",
      "FR00000000117\n",
      "US00000000166\n",
      "RU00000001295\n",
      "RU00000000648\n",
      "RU00000000859\n",
      "FR00000000110\n",
      "US00000000545\n",
      "FR00000000445\n",
      "DE00000001117\n",
      "NL00000000029\n",
      "US00000000791\n",
      "NL00000000745\n",
      "FR00000000982\n",
      "GB00000000093\n",
      "NL00000001660\n",
      "FR00000000652\n",
      "NL00000001083\n",
      "GB00000000890\n",
      "DE00000001874\n",
      "NL00000001649\n",
      "GB00000001221\n",
      "US00000001275\n",
      "DE00000002475\n",
      "RU00000000340\n",
      "RU00000001127\n",
      "RU00000000664\n",
      "GB00000001213\n",
      "US00000001008\n",
      "NL00000044260\n",
      "GB00000000299\n",
      "FR00000000521\n",
      "RU00000001327\n",
      "US00000002287\n",
      "GB00000000612\n",
      "DE00000000152\n",
      "GB00000000889\n",
      "GB00000001140\n",
      "DE00000001137\n",
      "US00000000060\n",
      "DE00000001137\n",
      "US00000001313\n",
      "GB00000000585\n",
      "RU00000000071\n",
      "RU00000000493\n",
      "FR00000000912\n",
      "RU00000000338\n",
      "GB00000001031\n",
      "US00000000545\n",
      "RU00000000860\n",
      "GB00000000801\n",
      "RU00000000917\n",
      "US00000000523\n",
      "GB00000000548\n",
      "DE00000000830\n",
      "US00000000122\n",
      "DE00000000082\n",
      "GB00000001268\n",
      "DE00000001142\n",
      "FR00000002225\n",
      "US00000000192\n",
      "DE00000000944\n",
      "US00000002422\n",
      "US00000000545\n",
      "US00000000031\n",
      "RU00000000777\n",
      "FR00000000847\n",
      "NL00000000862\n",
      "RU00000001605\n",
      "FR00000000652\n",
      "US00000000545\n",
      "RU00000001195\n",
      "RU00000000092\n",
      "FR00000001908\n",
      "US00000000695\n",
      "GB00000000299\n",
      "GB00000000518\n",
      "US00000001275\n",
      "FR00000001178\n",
      "RU00000000244\n",
      "FR00000000416\n",
      "US00000001275\n",
      "RU00000000423\n",
      "NL00000000503\n",
      "RU00000000212\n",
      "GB00000000570\n",
      "US00000001365\n",
      "RU00000001062\n",
      "GB00000000890\n",
      "NL00000000400\n",
      "RU00000001065\n",
      "NL00000001531\n",
      "FR00000000081\n",
      "NL00000000632\n",
      "RU00000000777\n",
      "RU00000000148\n",
      "GB00000000246\n",
      "NL00000000406\n",
      "DE00000000020\n",
      "RU00000001111\n",
      "GB00000001022\n",
      "DE00000001552\n",
      "GB00000000585\n",
      "FR00000002231\n",
      "FR00000000371\n",
      "FR00000001273\n",
      "FR00000000164\n",
      "DE00000000144\n",
      "RU00000001005\n",
      "FR00000000179\n",
      "US00000001275\n",
      "US00000002266\n",
      "RU00000001774\n",
      "DE00000001518\n",
      "GB00000001758\n",
      "GB00000002484\n",
      "US00000002483\n",
      "DE00000001670\n",
      "GB00000000585\n",
      "NL00000001429\n",
      "RU00000000777\n",
      "DE00000002428\n",
      "US00000002226\n"
     ]
    },
    {
     "data": {
      "text/plain": "{'DE00000000020',\n 'DE00000000082',\n 'DE00000000144',\n 'DE00000000151',\n 'DE00000000152',\n 'DE00000000402',\n 'DE00000000414',\n 'DE00000000510',\n 'DE00000000703',\n 'DE00000000770',\n 'DE00000000830',\n 'DE00000000944',\n 'DE00000000983',\n 'DE00000001117',\n 'DE00000001137',\n 'DE00000001142',\n 'DE00000001518',\n 'DE00000001552',\n 'DE00000001670',\n 'DE00000001862',\n 'DE00000001874',\n 'DE00000002175',\n 'DE00000002428',\n 'DE00000002475',\n 'DE00000002620',\n 'FR00000000007',\n 'FR00000000009',\n 'FR00000000081',\n 'FR00000000110',\n 'FR00000000117',\n 'FR00000000164',\n 'FR00000000179',\n 'FR00000000221',\n 'FR00000000371',\n 'FR00000000416',\n 'FR00000000445',\n 'FR00000000521',\n 'FR00000000534',\n 'FR00000000652',\n 'FR00000000780',\n 'FR00000000814',\n 'FR00000000847',\n 'FR00000000879',\n 'FR00000000912',\n 'FR00000000982',\n 'FR00000001165',\n 'FR00000001178',\n 'FR00000001224',\n 'FR00000001273',\n 'FR00000001299',\n 'FR00000001704',\n 'FR00000001908',\n 'FR00000002038',\n 'FR00000002045',\n 'FR00000002182',\n 'FR00000002225',\n 'FR00000002228',\n 'FR00000002231',\n 'GB00000000053',\n 'GB00000000093',\n 'GB00000000145',\n 'GB00000000208',\n 'GB00000000246',\n 'GB00000000299',\n 'GB00000000320',\n 'GB00000000518',\n 'GB00000000548',\n 'GB00000000570',\n 'GB00000000585',\n 'GB00000000612',\n 'GB00000000742',\n 'GB00000000782',\n 'GB00000000801',\n 'GB00000000853',\n 'GB00000000889',\n 'GB00000000890',\n 'GB00000000976',\n 'GB00000001022',\n 'GB00000001031',\n 'GB00000001140',\n 'GB00000001164',\n 'GB00000001213',\n 'GB00000001221',\n 'GB00000001268',\n 'GB00000001305',\n 'GB00000001443',\n 'GB00000001758',\n 'GB00000002390',\n 'GB00000002484',\n 'GB00000044158',\n 'NL00000000029',\n 'NL00000000251',\n 'NL00000000358',\n 'NL00000000378',\n 'NL00000000400',\n 'NL00000000406',\n 'NL00000000439',\n 'NL00000000440',\n 'NL00000000446',\n 'NL00000000503',\n 'NL00000000567',\n 'NL00000000588',\n 'NL00000000632',\n 'NL00000000666',\n 'NL00000000702',\n 'NL00000000745',\n 'NL00000000862',\n 'NL00000000918',\n 'NL00000000985',\n 'NL00000001083',\n 'NL00000001092',\n 'NL00000001148',\n 'NL00000001160',\n 'NL00000001176',\n 'NL00000001279',\n 'NL00000001429',\n 'NL00000001444',\n 'NL00000001531',\n 'NL00000001558',\n 'NL00000001649',\n 'NL00000001660',\n 'NL00000003601',\n 'NL00000044260',\n 'RU00000000071',\n 'RU00000000092',\n 'RU00000000138',\n 'RU00000000148',\n 'RU00000000202',\n 'RU00000000212',\n 'RU00000000244',\n 'RU00000000338',\n 'RU00000000340',\n 'RU00000000423',\n 'RU00000000432',\n 'RU00000000493',\n 'RU00000000648',\n 'RU00000000664',\n 'RU00000000768',\n 'RU00000000777',\n 'RU00000000859',\n 'RU00000000860',\n 'RU00000000917',\n 'RU00000000920',\n 'RU00000000936',\n 'RU00000001005',\n 'RU00000001030',\n 'RU00000001062',\n 'RU00000001065',\n 'RU00000001111',\n 'RU00000001127',\n 'RU00000001144',\n 'RU00000001195',\n 'RU00000001295',\n 'RU00000001327',\n 'RU00000001485',\n 'RU00000001605',\n 'RU00000001774',\n 'RU00000002504',\n 'RU00000002513',\n 'US00000000031',\n 'US00000000060',\n 'US00000000079',\n 'US00000000122',\n 'US00000000158',\n 'US00000000166',\n 'US00000000192',\n 'US00000000197',\n 'US00000000382',\n 'US00000000523',\n 'US00000000545',\n 'US00000000549',\n 'US00000000653',\n 'US00000000695',\n 'US00000000705',\n 'US00000000788',\n 'US00000000791',\n 'US00000000902',\n 'US00000000916',\n 'US00000000919',\n 'US00000000929',\n 'US00000000988',\n 'US00000001008',\n 'US00000001231',\n 'US00000001275',\n 'US00000001313',\n 'US00000001365',\n 'US00000002226',\n 'US00000002266',\n 'US00000002287',\n 'US00000002422',\n 'US00000002429',\n 'US00000002483',\n 'US00000007635'}"
     },
     "execution_count": 22,
     "metadata": {},
     "output_type": "execute_result"
    }
   ],
   "source": [
    "def get_ancestors(animal_id):\n",
    "    ancestors = set()\n",
    "    visited = set()\n",
    "    stack = [animal_id]\n",
    "    while stack:\n",
    "        current = stack.pop()\n",
    "        if current in visited or pd.isna(current):\n",
    "            continue\n",
    "        visited.add(current)\n",
    "        row = pedigree[pedigree['id'] == current]\n",
    "        if not row.empty:\n",
    "            m, f = row.iloc[0]['mother_id'], row.iloc[0]['father_id']\n",
    "            # Добавляем только валидные id\n",
    "            for parent in [m, f]:\n",
    "                if pd.notna(parent) and parent != current:\n",
    "                    print(parent)\n",
    "                    stack.append(parent)\n",
    "                    ancestors.add(parent)\n",
    "    return ancestors\n",
    "\n",
    "top_bull = bulls.head(1)\n",
    "get_ancestors(top_bull.iloc[0]['id'])"
   ],
   "metadata": {
    "collapsed": false,
    "ExecuteTime": {
     "end_time": "2025-06-27T08:31:48.904996Z",
     "start_time": "2025-06-27T08:31:48.141714Z"
    }
   },
   "id": "faeec11a3f1a6e90",
   "execution_count": 22
  },
  {
   "cell_type": "code",
   "outputs": [
    {
     "name": "stdout",
     "output_type": "stream",
     "text": [
      "DE00000028635 US00000000795 0.6904761904761905\n",
      "FR00000011732 US00000000795 0.8039538714991763\n",
      "DE00000023145 US00000000795 0.7589424572317263\n",
      "DE00000014083 US00000000795 0.7612687813021702\n",
      "NL00000004886 US00000000795 0.7374392220421394\n",
      "DE00000027440 US00000000795 0.7479806138933764\n",
      "US00000069140 US00000000795 0.5614886731391586\n",
      "GB00000083297 US00000000795 0.5735537190082645\n",
      "GB00000024686 US00000000795 0.7587354409317804\n",
      "GB00000017595 US00000000795 0.6517006802721088\n",
      "NL00000027867 US00000000795 0.7660910518053375\n",
      "DE00000023455 US00000000795 0.8\n",
      "GB00000009133 US00000000795 0.7167182662538699\n",
      "RU00000045502 US00000000795 0.8413793103448276\n",
      "US00000011575 US00000000795 0.7174603174603175\n"
     ]
    },
    {
     "ename": "KeyboardInterrupt",
     "evalue": "",
     "output_type": "error",
     "traceback": [
      "\u001B[31m---------------------------------------------------------------------------\u001B[39m",
      "\u001B[31mKeyboardInterrupt\u001B[39m                         Traceback (most recent call last)",
      "\u001B[32m~\\AppData\\Local\\Temp\\ipykernel_21044\\2154171004.py\u001B[39m in \u001B[36m?\u001B[39m\u001B[34m()\u001B[39m\n\u001B[32m     33\u001B[39m \n\u001B[32m     34\u001B[39m pairs = []\n\u001B[32m     35\u001B[39m \u001B[38;5;28;01mfor\u001B[39;00m bull \u001B[38;5;28;01min\u001B[39;00m bulls.itertuples(index=\u001B[38;5;28;01mFalse\u001B[39;00m):\n\u001B[32m     36\u001B[39m     \u001B[38;5;28;01mfor\u001B[39;00m cow \u001B[38;5;28;01min\u001B[39;00m cows.itertuples(index=\u001B[38;5;28;01mFalse\u001B[39;00m):\n\u001B[32m---> \u001B[39m\u001B[32m37\u001B[39m         rel = calc_rel(cow.id, bull.id)\n\u001B[32m     38\u001B[39m         print(cow.id, bull.id, rel)\n\u001B[32m     39\u001B[39m         \u001B[38;5;28;01mif\u001B[39;00m rel <= \u001B[32m0.05\u001B[39m:\n\u001B[32m     40\u001B[39m             ebv_offspring = (cow.ebv + bull.ebv) / \u001B[32m2\u001B[39m\n",
      "\u001B[32m~\\AppData\\Local\\Temp\\ipykernel_21044\\2154171004.py\u001B[39m in \u001B[36m?\u001B[39m\u001B[34m(cow_id, bull_id)\u001B[39m\n\u001B[32m     21\u001B[39m     pedigree_bull = pedigree[pedigree[\u001B[33m'id'\u001B[39m] == bull_id].iloc[\u001B[32m0\u001B[39m]\n\u001B[32m     22\u001B[39m     pedigree_cow = pedigree[pedigree[\u001B[33m'id'\u001B[39m] == cow_id].iloc[\u001B[32m0\u001B[39m]\n\u001B[32m     23\u001B[39m     \u001B[38;5;28;01mif\u001B[39;00m pedigree_bull[\u001B[33m'mother_id'\u001B[39m] == pedigree_cow[\u001B[33m'mother_id'\u001B[39m] \u001B[38;5;28;01mor\u001B[39;00m pedigree_bull[\u001B[33m'father_id'\u001B[39m] == pedigree_cow[\u001B[33m'father_id'\u001B[39m]:\n\u001B[32m     24\u001B[39m         \u001B[38;5;28;01mreturn\u001B[39;00m \u001B[32m0.8\u001B[39m  \u001B[38;5;66;03m# Либо родные, либо двоюродные, мало подходит. Сделано, для ускорения.\u001B[39;00m\n\u001B[32m---> \u001B[39m\u001B[32m25\u001B[39m     bulls_anc = get_ancestors(bull_id)\n\u001B[32m     26\u001B[39m     cows_anc = get_ancestors(cow_id)\n\u001B[32m     27\u001B[39m     \u001B[38;5;66;03m# Родство — доля общих предков (очень упрощённо)\u001B[39;00m\n\u001B[32m     28\u001B[39m     common = cows_anc & bulls_anc\n",
      "\u001B[32m~\\AppData\\Local\\Temp\\ipykernel_21044\\2154171004.py\u001B[39m in \u001B[36m?\u001B[39m\u001B[34m(animal_id)\u001B[39m\n\u001B[32m      6\u001B[39m         current = stack.pop()\n\u001B[32m      7\u001B[39m         \u001B[38;5;28;01mif\u001B[39;00m current \u001B[38;5;28;01min\u001B[39;00m visited \u001B[38;5;28;01mor\u001B[39;00m pd.isna(current):\n\u001B[32m      8\u001B[39m             \u001B[38;5;28;01mcontinue\u001B[39;00m\n\u001B[32m      9\u001B[39m         visited.add(current)\n\u001B[32m---> \u001B[39m\u001B[32m10\u001B[39m         row = pedigree[pedigree[\u001B[33m'id'\u001B[39m] == current]\n\u001B[32m     11\u001B[39m         \u001B[38;5;28;01mif\u001B[39;00m \u001B[38;5;28;01mnot\u001B[39;00m row.empty:\n\u001B[32m     12\u001B[39m             m, f = row.iloc[\u001B[32m0\u001B[39m][\u001B[33m'mother_id'\u001B[39m], row.iloc[\u001B[32m0\u001B[39m][\u001B[33m'father_id'\u001B[39m]\n\u001B[32m     13\u001B[39m             \u001B[38;5;66;03m# Добавляем только валидные id\u001B[39;00m\n",
      "\u001B[32mC:\\Python311\\Lib\\site-packages\\pandas\\core\\frame.py\u001B[39m in \u001B[36m?\u001B[39m\u001B[34m(self, key)\u001B[39m\n\u001B[32m   4089\u001B[39m             \u001B[38;5;28;01mreturn\u001B[39;00m self.where(key)\n\u001B[32m   4090\u001B[39m \n\u001B[32m   4091\u001B[39m         \u001B[38;5;66;03m# Do we have a (boolean) 1d indexer?\u001B[39;00m\n\u001B[32m   4092\u001B[39m         \u001B[38;5;28;01mif\u001B[39;00m com.is_bool_indexer(key):\n\u001B[32m-> \u001B[39m\u001B[32m4093\u001B[39m             \u001B[38;5;28;01mreturn\u001B[39;00m self._getitem_bool_array(key)\n\u001B[32m   4094\u001B[39m \n\u001B[32m   4095\u001B[39m         \u001B[38;5;66;03m# We are left with two options: a single key, and a collection of keys,\u001B[39;00m\n\u001B[32m   4096\u001B[39m         \u001B[38;5;66;03m# We interpret tuples as collections only for non-MultiIndex\u001B[39;00m\n",
      "\u001B[32mC:\\Python311\\Lib\\site-packages\\pandas\\core\\frame.py\u001B[39m in \u001B[36m?\u001B[39m\u001B[34m(self, key)\u001B[39m\n\u001B[32m   4150\u001B[39m \n\u001B[32m   4151\u001B[39m         \u001B[38;5;28;01mif\u001B[39;00m key.all():\n\u001B[32m   4152\u001B[39m             \u001B[38;5;28;01mreturn\u001B[39;00m self.copy(deep=\u001B[38;5;28;01mNone\u001B[39;00m)\n\u001B[32m   4153\u001B[39m \n\u001B[32m-> \u001B[39m\u001B[32m4154\u001B[39m         indexer = key.nonzero()[\u001B[32m0\u001B[39m]\n\u001B[32m   4155\u001B[39m         \u001B[38;5;28;01mreturn\u001B[39;00m self._take_with_is_copy(indexer, axis=\u001B[32m0\u001B[39m)\n",
      "\u001B[31mKeyboardInterrupt\u001B[39m: "
     ]
    }
   ],
   "source": [
    "def get_ancestors(animal_id):\n",
    "    ancestors = set()\n",
    "    visited = set()\n",
    "    stack = [animal_id]\n",
    "    while stack:\n",
    "        current = stack.pop()\n",
    "        if current in visited or pd.isna(current):\n",
    "            continue\n",
    "        visited.add(current)\n",
    "        row = pedigree[pedigree['id'] == current]\n",
    "        if not row.empty:\n",
    "            m, f = row.iloc[0]['mother_id'], row.iloc[0]['father_id']\n",
    "            # Добавляем только валидные id\n",
    "            for parent in [m, f]:\n",
    "                if pd.notna(parent) and parent != current:\n",
    "                    stack.append(parent)\n",
    "                    ancestors.add(parent)\n",
    "    return ancestors\n",
    "\n",
    "def calc_rel(cow_id, bull_id):\n",
    "    pedigree_bull = pedigree[pedigree['id'] == bull_id].iloc[0]\n",
    "    pedigree_cow = pedigree[pedigree['id'] == cow_id].iloc[0]\n",
    "    if pedigree_bull['mother_id'] == pedigree_cow['mother_id'] or pedigree_bull['father_id'] == pedigree_cow['father_id']:\n",
    "        return 0.8  # Либо родные, либо двоюродные, мало подходит. Сделано, для ускорения.\n",
    "    bulls_anc = get_ancestors(bull_id)\n",
    "    cows_anc = get_ancestors(cow_id)\n",
    "    # Родство — доля общих предков (очень упрощённо)\n",
    "    common = cows_anc & bulls_anc\n",
    "    total = cows_anc | bulls_anc\n",
    "    if not total:\n",
    "        return 0.0\n",
    "    return len(common) / len(total)\n",
    "\n",
    "pairs = []\n",
    "for bull in bulls.itertuples(index=False):\n",
    "    for cow in cows.itertuples(index=False):\n",
    "        rel = calc_rel(cow.id, bull.id)\n",
    "        print(cow.id, bull.id, rel)\n",
    "        if rel <= 0.05:\n",
    "            ebv_offspring = (cow.ebv + bull.ebv) / 2\n",
    "            pairs.append({'cow_id': cow.id, 'bull_id': bull.id, 'ebv': ebv_offspring, 'rel': rel})\n",
    "\n",
    "# pairs_df\n",
    "# pd.DataFrame(pairs)\n"
   ],
   "metadata": {
    "collapsed": false,
    "ExecuteTime": {
     "end_time": "2025-06-26T07:48:21.544559Z",
     "start_time": "2025-06-26T07:47:18.564034Z"
    }
   },
   "id": "22d1a0e2a85e95e6",
   "execution_count": 13
  },
  {
   "cell_type": "code",
   "outputs": [],
   "source": [
    "from collections import defaultdict\n",
    "bull_usage = defaultdict(int)\n",
    "selected_pairs = []\n",
    "used_cows = set()\n",
    "\n",
    "# Сортируем по EBV потомка\n",
    "pairs_df = pairs_df.sort_values(by='ebv', ascending=False)\n",
    "\n",
    "for _, row in pairs_df.iterrows():\n",
    "    if row['cow_id'] in used_cows:\n",
    "        continue\n",
    "    if bull_usage[row['bull_id']] >= max_cows_for_bull:\n",
    "        continue\n",
    "    selected_pairs.append(row)\n",
    "    used_cows.add(row['cow_id'])\n",
    "    bull_usage[row['bull_id']] += 1\n",
    "    if len(used_cows) == len(cows):\n",
    "        break\n",
    "\n",
    "# Анализ разброса EBV\n",
    "ebvs = [p['ebv'] for p in selected_pairs]\n",
    "mean_ebv = sum(ebvs) / len(ebvs)\n",
    "std_ebv = pd.Series(ebvs).std()\n",
    "\n",
    "print(f'Средний EBV: {mean_ebv:.2f}, Разброс EBV: {std_ebv:.2f}')"
   ],
   "metadata": {
    "collapsed": false
   },
   "id": "44369abb1d0381a4"
  }
 ],
 "metadata": {
  "kernelspec": {
   "display_name": "Python 3",
   "language": "python",
   "name": "python3"
  },
  "language_info": {
   "codemirror_mode": {
    "name": "ipython",
    "version": 2
   },
   "file_extension": ".py",
   "mimetype": "text/x-python",
   "name": "python",
   "nbconvert_exporter": "python",
   "pygments_lexer": "ipython2",
   "version": "2.7.6"
  }
 },
 "nbformat": 4,
 "nbformat_minor": 5
}
