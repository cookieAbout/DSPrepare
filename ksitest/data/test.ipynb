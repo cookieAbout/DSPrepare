{
 "cells": [
  {
   "cell_type": "code",
   "execution_count": 1,
   "id": "initial_id",
   "metadata": {
    "collapsed": true,
    "ExecuteTime": {
     "end_time": "2025-06-27T08:44:16.703931Z",
     "start_time": "2025-06-27T08:44:16.125077Z"
    }
   },
   "outputs": [],
   "source": [
    "import pandas as pd\n",
    "# читаем содержимое фалов\n",
    "bulls = pd.read_csv('bulls.csv').sort_values('ebv', ascending=False)  # быки-кандидаты на осеменение\n",
    "cows = pd.read_csv('cows.csv').sort_values('ebv', ascending=False)  # коровы, которых нужно осеменить\n",
    "date_map = {'id': 'str', 'mother_id': 'str', 'father_id': 'str'}\n",
    "pedigree = pd.read_csv('pedigree.csv', dtype=date_map)  # родословные животных"
   ]
  },
  {
   "cell_type": "code",
   "outputs": [
    {
     "data": {
      "text/plain": "(                                        id\n mother_id     father_id                   \n GB00000070596 FR00000051087  GB00000090350\n GB00000085021 GB00000051158  DE00000090351\n US00000087323 GB00000091078  US00000090352\n NaN           NaN            FR00000090353\n US00000056066 NL00000050889  GB00000090358\n ...                                    ...\n FR00000026340 GB00000000557  FR00000046829\n GB00000022627 US00000001653  FR00000048066\n NL00000005019 GB00000001788  RU00000048290\n DE00000028637 DE00000003760  US00000013052\n DE00000034312 NL00000001819  DE00000048341\n \n [94400 rows x 1 columns],\n                id  descendants_count          ebv\n 18  US00000000795                299  1867.900000\n 17  US00000003507                 84  1782.900000\n 2   US00000003013                436  1528.600000\n 4   DE00000001742                496  1510.600000\n 19  US00000003459                 51  1506.600000\n 6   US00000002804                355  1444.300000\n 5   GB00000002348                522  1315.300000\n 7   FR00000002912               1250  1238.700000\n 3   US00000001653               1097  1193.200000\n 14  GB00000002585                  2  1173.900000\n 8   DE00000003760                369  1138.500000\n 9   DE00000003486                472  1085.500000\n 11  RU00000003147                 50   824.900000\n 20  NL00000051437                157   772.500000\n 31  DE00000080214                  1   704.200000\n 38  NL00000050788                  1   691.900000\n 0   FR00000000479                476   690.700000\n 23  NL00000050889                275   650.700000\n 13  NL00000003091                208   539.000000\n 15  GB00000002899                 15   534.900000\n 29  US00000051455                217   489.800000\n 28  US00000051108                151   477.000000\n 12  RU00000002534                 41   475.400000\n 21  FR00000051194                221   346.600000\n 22  RU00000051449                235   324.900000\n 27  FR00000051087                266    23.000000\n 32  GB00000051128                106     0.900000\n 25  NL00000051057                219   -11.800000\n 16  RU00000002787                 52   -13.000000\n 26  FR00000051052                263   -40.100000\n 33  RU00000051274                  1  -324.600000\n 24  GB00000051000                183  -432.400000\n 10  FR00000003214                 39  -475.500000\n 1   NL00000001842                325  -597.600000\n 37  NL00000060143                  1  -656.600000\n 34  DE00000073683                  1  -969.500000\n 35  GB00000064975                  1 -1252.200000\n 36  NL00000050449                  7 -1305.200000\n 30  GB00000052082                  3   480.365789,\n                   id          ebv\n 4838   DE00000028635  2046.200000\n 6810   FR00000011732  1981.100000\n 9716   DE00000023145  1840.500000\n 8011   DE00000014083  1814.800000\n 5699   NL00000004886  1788.700000\n ...              ...          ...\n 17029  DE00000051504   362.145342\n 17033  NL00000051514   362.145342\n 17102  FR00000072736   362.145342\n 17133  NL00000006091   362.145342\n 17172  DE00000051612   362.145342\n \n [17177 rows x 2 columns])"
     },
     "execution_count": 2,
     "metadata": {},
     "output_type": "execute_result"
    }
   ],
   "source": [
    "def clear_data(pedigree, bulls, cows):\n",
    "    pedigree = pedigree.set_index(['mother_id', 'father_id'])\n",
    "    bulls = bulls.fillna(bulls.mean(numeric_only=True))\n",
    "    cows = cows.fillna(cows.mean(numeric_only=True))\n",
    "    return pedigree, bulls, cows\n",
    "\n",
    "clear_data(pedigree, bulls, cows)"
   ],
   "metadata": {
    "collapsed": false,
    "ExecuteTime": {
     "end_time": "2025-06-27T08:44:18.498854Z",
     "start_time": "2025-06-27T08:44:18.420515Z"
    }
   },
   "id": "f19b8bb1cc39a4e1",
   "execution_count": 2
  },
  {
   "cell_type": "code",
   "outputs": [],
   "source": [
    "top_bull = bulls.head(1)\n",
    "\n"
   ],
   "metadata": {
    "collapsed": false,
    "ExecuteTime": {
     "end_time": "2025-06-27T08:44:56.646385Z",
     "start_time": "2025-06-27T08:44:56.643256Z"
    }
   },
   "id": "5f77102e33906d71",
   "execution_count": 3
  }
 ],
 "metadata": {
  "kernelspec": {
   "display_name": "Python 3",
   "language": "python",
   "name": "python3"
  },
  "language_info": {
   "codemirror_mode": {
    "name": "ipython",
    "version": 2
   },
   "file_extension": ".py",
   "mimetype": "text/x-python",
   "name": "python",
   "nbconvert_exporter": "python",
   "pygments_lexer": "ipython2",
   "version": "2.7.6"
  }
 },
 "nbformat": 4,
 "nbformat_minor": 5
}
