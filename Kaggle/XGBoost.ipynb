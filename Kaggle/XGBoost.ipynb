{
 "cells": [
  {
   "cell_type": "code",
   "execution_count": 2,
   "id": "initial_id",
   "metadata": {
    "collapsed": true,
    "ExecuteTime": {
     "end_time": "2025-04-16T04:33:02.351522Z",
     "start_time": "2025-04-16T04:33:02.295932Z"
    }
   },
   "outputs": [],
   "source": [
    "# Градиентный спуск\n",
    "import pandas as pd\n",
    "from sklearn.model_selection import train_test_split\n",
    "\n",
    "# Read the data\n",
    "data = pd.read_csv('melb_data/melb_data.csv')\n",
    "\n",
    "# Select subset of predictors\n",
    "cols_to_use = ['Rooms', 'Distance', 'Landsize', 'BuildingArea', 'YearBuilt']\n",
    "X = data[cols_to_use]\n",
    "\n",
    "# Select target\n",
    "y = data.Price\n",
    "\n",
    "# Separate data into training and validation sets\n",
    "X_train, X_valid, y_train, y_valid = train_test_split(X, y)"
   ]
  },
  {
   "cell_type": "code",
   "outputs": [
    {
     "data": {
      "text/plain": "235121.55738678202"
     },
     "execution_count": 15,
     "metadata": {},
     "output_type": "execute_result"
    }
   ],
   "source": [
    "from xgboost import XGBRegressor\n",
    "from sklearn.metrics import mean_absolute_error\n",
    "\n",
    "my_model = XGBRegressor(\n",
    "    n_estimators=1000,  # число моделей в ансамбле, сколько раз проходить цикл моделирования\n",
    "    learning_rate=0.05,  # умножение прогноза на 0.05, вместо суммирования\n",
    "    early_stopping_rounds=5,  # ранняя остановка модели, если оценка перестает улучшаться\n",
    "    n_jobs=8,  # Распараллеливание. Обычно равно количеству ядер ком-ра\n",
    ")\n",
    "my_model.fit(\n",
    "    X_train, y_train,\n",
    "    eval_set=[(X_train, y_train)],\n",
    "    verbose=False\n",
    ")\n",
    "pred = my_model.predict(X_valid)\n",
    "mean_absolute_error(y_valid, pred)"
   ],
   "metadata": {
    "collapsed": false,
    "ExecuteTime": {
     "end_time": "2025-04-16T07:09:41.070790Z",
     "start_time": "2025-04-16T07:09:40.323625Z"
    }
   },
   "id": "f9ecf2838640a899",
   "execution_count": 15
  },
  {
   "cell_type": "code",
   "outputs": [
    {
     "data": {
      "text/plain": "259919.52804263475"
     },
     "execution_count": 25,
     "metadata": {},
     "output_type": "execute_result"
    }
   ],
   "source": [
    "from sklearn.ensemble import GradientBoostingRegressor\n",
    "\n",
    "cols_with_missing = [col for col in X_train.columns if X_train[col].isnull().any()]\n",
    "\n",
    "reduce_X_train = X_train.drop(cols_with_missing, axis=1)\n",
    "reduce_X_valid = X_valid.drop(cols_with_missing, axis=1)\n",
    "\n",
    "sk_model = GradientBoostingRegressor(n_estimators=1000, learning_rate=0.05, random_state=0)\n",
    "sk_model.fit(reduce_X_train, y_train)\n",
    "sk_pred = sk_model.predict(reduce_X_valid)\n",
    "mean_absolute_error(y_valid, sk_pred)"
   ],
   "metadata": {
    "collapsed": false,
    "ExecuteTime": {
     "end_time": "2025-04-16T10:25:51.132986Z",
     "start_time": "2025-04-16T10:25:46.680227Z"
    }
   },
   "id": "33e2482e3a6cd033",
   "execution_count": 25
  }
 ],
 "metadata": {
  "kernelspec": {
   "display_name": "Python 3",
   "language": "python",
   "name": "python3"
  },
  "language_info": {
   "codemirror_mode": {
    "name": "ipython",
    "version": 2
   },
   "file_extension": ".py",
   "mimetype": "text/x-python",
   "name": "python",
   "nbconvert_exporter": "python",
   "pygments_lexer": "ipython2",
   "version": "2.7.6"
  }
 },
 "nbformat": 4,
 "nbformat_minor": 5
}
