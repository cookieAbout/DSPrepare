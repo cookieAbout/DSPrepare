{
 "cells": [
  {
   "cell_type": "code",
   "execution_count": 3,
   "id": "initial_id",
   "metadata": {
    "collapsed": true,
    "ExecuteTime": {
     "end_time": "2025-06-11T06:17:04.998064Z",
     "start_time": "2025-06-11T06:16:53.917202Z"
    }
   },
   "outputs": [
    {
     "data": {
      "text/plain": "'https://oaidalleapiprodscus.blob.core.windows.net/private/org-IGllGKfpHuHD3pmVeTq1OTO2/user-A8sdeu43URwjqKwB0WC868ZT/img-ej3MaQA19QqGTV9aNBtyC8YB.png?st=2025-06-11T05%3A17%3A04Z&se=2025-06-11T07%3A17%3A04Z&sp=r&sv=2024-08-04&sr=b&rscd=inline&rsct=image/png&skoid=475fd488-6c59-44a5-9aa9-31c4db451bea&sktid=a48cca56-e6da-484e-a814-9c849652bcb3&skt=2025-06-10T09%3A45%3A52Z&ske=2025-06-11T09%3A45%3A52Z&sks=b&skv=2024-08-04&sig=6DH2fiMJZlRAk43UeVyGnP/88euD4FiQ4tNA0aF0ZJo%3D'"
     },
     "execution_count": 3,
     "metadata": {},
     "output_type": "execute_result"
    }
   ],
   "source": [
    "import openai\n",
    "response = openai.images.generate(\n",
    "            prompt='ромашка',\n",
    "            n=1,\n",
    "            size=\"512x512\"\n",
    "        )\n",
    "response.data[0].url"
   ]
  },
  {
   "cell_type": "code",
   "outputs": [],
   "source": [],
   "metadata": {
    "collapsed": false
   },
   "id": "22f18b5713dfe28c"
  }
 ],
 "metadata": {
  "kernelspec": {
   "display_name": "Python 3",
   "language": "python",
   "name": "python3"
  },
  "language_info": {
   "codemirror_mode": {
    "name": "ipython",
    "version": 2
   },
   "file_extension": ".py",
   "mimetype": "text/x-python",
   "name": "python",
   "nbconvert_exporter": "python",
   "pygments_lexer": "ipython2",
   "version": "2.7.6"
  }
 },
 "nbformat": 4,
 "nbformat_minor": 5
}
