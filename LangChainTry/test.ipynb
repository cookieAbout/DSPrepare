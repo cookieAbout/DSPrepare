{
 "cells": [
  {
   "cell_type": "code",
   "execution_count": 2,
   "id": "initial_id",
   "metadata": {
    "collapsed": true,
    "ExecuteTime": {
     "end_time": "2025-06-02T12:46:41.191612Z",
     "start_time": "2025-06-02T12:46:40.600562Z"
    }
   },
   "outputs": [
    {
     "name": "stderr",
     "output_type": "stream",
     "text": [
      "C:\\Users\\Svetlana\\AppData\\Local\\Temp\\ipykernel_2348\\2727602377.py:9: LangChainBetaWarning: This API is in beta and may change in the future.\n",
      "  chain = (prompt | llm).as_tool()\n"
     ]
    },
    {
     "ename": "TypeError",
     "evalue": "convert_runnable_to_tool.<locals>.invoke_wrapper() got multiple values for argument 'callbacks'",
     "output_type": "error",
     "traceback": [
      "\u001B[31m---------------------------------------------------------------------------\u001B[39m",
      "\u001B[31mTypeError\u001B[39m                                 Traceback (most recent call last)",
      "\u001B[36mCell\u001B[39m\u001B[36m \u001B[39m\u001B[32mIn[2]\u001B[39m\u001B[32m, line 10\u001B[39m\n\u001B[32m      6\u001B[39m prompt = PromptTemplate(\n\u001B[32m      7\u001B[39m     input_variables=[\u001B[33m\"\u001B[39m\u001B[33mfood\u001B[39m\u001B[33m\"\u001B[39m], template=\u001B[33m\"\u001B[39m\u001B[33mВыведи топ 5 стран для отдыха любителям \u001B[39m\u001B[38;5;132;01m{food}\u001B[39;00m\u001B[33m\"\u001B[39m\n\u001B[32m      8\u001B[39m )\n\u001B[32m      9\u001B[39m chain = (prompt | llm).as_tool()\n\u001B[32m---> \u001B[39m\u001B[32m10\u001B[39m \u001B[38;5;28mprint\u001B[39m(\u001B[38;5;28mtype\u001B[39m(\u001B[43mchain\u001B[49m\u001B[43m.\u001B[49m\u001B[43minvoke\u001B[49m\u001B[43m(\u001B[49m\u001B[33;43m'\u001B[39;49m\u001B[33;43mcookie\u001B[39;49m\u001B[33;43m'\u001B[39;49m\u001B[43m)\u001B[49m))\n",
      "\u001B[36mFile \u001B[39m\u001B[32mC:\\Python311\\Lib\\site-packages\\langchain_core\\tools\\base.py:513\u001B[39m, in \u001B[36mBaseTool.invoke\u001B[39m\u001B[34m(self, input, config, **kwargs)\u001B[39m\n\u001B[32m    505\u001B[39m \u001B[38;5;129m@override\u001B[39m\n\u001B[32m    506\u001B[39m \u001B[38;5;28;01mdef\u001B[39;00m\u001B[38;5;250m \u001B[39m\u001B[34minvoke\u001B[39m(\n\u001B[32m    507\u001B[39m     \u001B[38;5;28mself\u001B[39m,\n\u001B[32m   (...)\u001B[39m\u001B[32m    510\u001B[39m     **kwargs: Any,\n\u001B[32m    511\u001B[39m ) -> Any:\n\u001B[32m    512\u001B[39m     tool_input, kwargs = _prep_run_args(\u001B[38;5;28minput\u001B[39m, config, **kwargs)\n\u001B[32m--> \u001B[39m\u001B[32m513\u001B[39m     \u001B[38;5;28;01mreturn\u001B[39;00m \u001B[38;5;28;43mself\u001B[39;49m\u001B[43m.\u001B[49m\u001B[43mrun\u001B[49m\u001B[43m(\u001B[49m\u001B[43mtool_input\u001B[49m\u001B[43m,\u001B[49m\u001B[43m \u001B[49m\u001B[43m*\u001B[49m\u001B[43m*\u001B[49m\u001B[43mkwargs\u001B[49m\u001B[43m)\u001B[49m\n",
      "\u001B[36mFile \u001B[39m\u001B[32mC:\\Python311\\Lib\\site-packages\\langchain_core\\tools\\base.py:774\u001B[39m, in \u001B[36mBaseTool.run\u001B[39m\u001B[34m(self, tool_input, verbose, start_color, color, callbacks, tags, metadata, run_name, run_id, config, tool_call_id, **kwargs)\u001B[39m\n\u001B[32m    772\u001B[39m \u001B[38;5;28;01mif\u001B[39;00m error_to_raise:\n\u001B[32m    773\u001B[39m     run_manager.on_tool_error(error_to_raise)\n\u001B[32m--> \u001B[39m\u001B[32m774\u001B[39m     \u001B[38;5;28;01mraise\u001B[39;00m error_to_raise\n\u001B[32m    775\u001B[39m output = _format_output(content, artifact, tool_call_id, \u001B[38;5;28mself\u001B[39m.name, status)\n\u001B[32m    776\u001B[39m run_manager.on_tool_end(output, color=color, name=\u001B[38;5;28mself\u001B[39m.name, **kwargs)\n",
      "\u001B[36mFile \u001B[39m\u001B[32mC:\\Python311\\Lib\\site-packages\\langchain_core\\tools\\base.py:743\u001B[39m, in \u001B[36mBaseTool.run\u001B[39m\u001B[34m(self, tool_input, verbose, start_color, color, callbacks, tags, metadata, run_name, run_id, config, tool_call_id, **kwargs)\u001B[39m\n\u001B[32m    741\u001B[39m     \u001B[38;5;28;01mif\u001B[39;00m config_param := _get_runnable_config_param(\u001B[38;5;28mself\u001B[39m._run):\n\u001B[32m    742\u001B[39m         tool_kwargs = tool_kwargs | {config_param: config}\n\u001B[32m--> \u001B[39m\u001B[32m743\u001B[39m     response = \u001B[43mcontext\u001B[49m\u001B[43m.\u001B[49m\u001B[43mrun\u001B[49m\u001B[43m(\u001B[49m\u001B[38;5;28;43mself\u001B[39;49m\u001B[43m.\u001B[49m\u001B[43m_run\u001B[49m\u001B[43m,\u001B[49m\u001B[43m \u001B[49m\u001B[43m*\u001B[49m\u001B[43mtool_args\u001B[49m\u001B[43m,\u001B[49m\u001B[43m \u001B[49m\u001B[43m*\u001B[49m\u001B[43m*\u001B[49m\u001B[43mtool_kwargs\u001B[49m\u001B[43m)\u001B[49m\n\u001B[32m    744\u001B[39m \u001B[38;5;28;01mif\u001B[39;00m \u001B[38;5;28mself\u001B[39m.response_format == \u001B[33m\"\u001B[39m\u001B[33mcontent_and_artifact\u001B[39m\u001B[33m\"\u001B[39m:\n\u001B[32m    745\u001B[39m     \u001B[38;5;28;01mif\u001B[39;00m \u001B[38;5;129;01mnot\u001B[39;00m \u001B[38;5;28misinstance\u001B[39m(response, \u001B[38;5;28mtuple\u001B[39m) \u001B[38;5;129;01mor\u001B[39;00m \u001B[38;5;28mlen\u001B[39m(response) != \u001B[32m2\u001B[39m:\n",
      "\u001B[36mFile \u001B[39m\u001B[32mC:\\Python311\\Lib\\site-packages\\langchain_core\\tools\\structured.py:93\u001B[39m, in \u001B[36mStructuredTool._run\u001B[39m\u001B[34m(self, config, run_manager, *args, **kwargs)\u001B[39m\n\u001B[32m     91\u001B[39m     \u001B[38;5;28;01mif\u001B[39;00m config_param := _get_runnable_config_param(\u001B[38;5;28mself\u001B[39m.func):\n\u001B[32m     92\u001B[39m         kwargs[config_param] = config\n\u001B[32m---> \u001B[39m\u001B[32m93\u001B[39m     \u001B[38;5;28;01mreturn\u001B[39;00m \u001B[38;5;28;43mself\u001B[39;49m\u001B[43m.\u001B[49m\u001B[43mfunc\u001B[49m\u001B[43m(\u001B[49m\u001B[43m*\u001B[49m\u001B[43margs\u001B[49m\u001B[43m,\u001B[49m\u001B[43m \u001B[49m\u001B[43m*\u001B[49m\u001B[43m*\u001B[49m\u001B[43mkwargs\u001B[49m\u001B[43m)\u001B[49m\n\u001B[32m     94\u001B[39m msg = \u001B[33m\"\u001B[39m\u001B[33mStructuredTool does not support sync invocation.\u001B[39m\u001B[33m\"\u001B[39m\n\u001B[32m     95\u001B[39m \u001B[38;5;28;01mraise\u001B[39;00m \u001B[38;5;167;01mNotImplementedError\u001B[39;00m(msg)\n",
      "\u001B[31mTypeError\u001B[39m: convert_runnable_to_tool.<locals>.invoke_wrapper() got multiple values for argument 'callbacks'"
     ]
    }
   ],
   "source": []
  }
 ],
 "metadata": {
  "kernelspec": {
   "display_name": "Python 3",
   "language": "python",
   "name": "python3"
  },
  "language_info": {
   "codemirror_mode": {
    "name": "ipython",
    "version": 2
   },
   "file_extension": ".py",
   "mimetype": "text/x-python",
   "name": "python",
   "nbconvert_exporter": "python",
   "pygments_lexer": "ipython2",
   "version": "2.7.6"
  }
 },
 "nbformat": 4,
 "nbformat_minor": 5
}
